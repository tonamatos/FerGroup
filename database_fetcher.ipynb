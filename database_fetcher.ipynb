{
 "cells": [
  {
   "cell_type": "code",
   "execution_count": 2,
   "metadata": {},
   "outputs": [
    {
     "name": "stdout",
     "output_type": "stream",
     "text": [
      "Created directory: c:\\Users\\Tonatiuh\\OneDrive\\Documentos\\GitHub\\FerGroup\\databases\\MarcosLaffitte\n",
      "Created directory: c:\\Users\\Tonatiuh\\OneDrive\\Documentos\\GitHub\\FerGroup\\databases\\BrendanMcKay\n",
      "Created directory: c:\\Users\\Tonatiuh\\OneDrive\\Documentos\\GitHub\\FerGroup\\cache\n"
     ]
    }
   ],
   "source": [
    "# Create directory tree\n",
    "\n",
    "from pathlib import Path\n",
    "\n",
    "root_dir = Path.cwd()\n",
    "\n",
    "dirs_to_create = [\n",
    "  root_dir / \"databases\" / \"MarcosLaffitte\",\n",
    "  root_dir / \"databases\" / \"BrendanMcKay\",\n",
    "  root_dir / \"cache\"]\n",
    "\n",
    "# Create directories\n",
    "for dir_path in dirs_to_create:\n",
    "  dir_path.mkdir(parents=True, exist_ok=True)\n",
    "  print(f\"Created directory: {dir_path}\")"
   ]
  },
  {
   "cell_type": "code",
   "execution_count": 3,
   "metadata": {},
   "outputs": [],
   "source": [
    "# Download Marcos Laffitte's databases\n",
    "\n",
    "import requests\n",
    "\n",
    "url = \"https://github.com/MarcosLaffitte/Amoebas/raw/main/6_Examples/c_Bigger_Analyses/\"\n",
    "\n",
    "marcos_file_names = [\n",
    "  \"Amoeba_Graphs_1_to_10_vertices_raw.pkl\",\n",
    "  \"Amoeba_Trees_1_to_22_vertices_raw.pkl\"]\n",
    "  \n",
    "for file_name in marcos_file_names:\n",
    "  response = requests.get(url + file_name)\n",
    "  if response.status_code == 200:\n",
    "    with open(\"databases/MarcosLaffitte/\" + file_name, \"wb\") as file:\n",
    "      file.write(response.content)\n",
    "  else:\n",
    "    print(\"Failed to download file:\", response.status_code)"
   ]
  },
  {
   "cell_type": "code",
   "execution_count": 2,
   "metadata": {},
   "outputs": [],
   "source": [
    "# Download Brendan McKay's databases (currently only homeomorphically irreducible trees)\n",
    "# More graphs can be found here https://users.cecs.anu.edu.au/~bdm/data/graphs.html\n",
    "# But the amoebas are likely already contained above.\n",
    "# More trees found here https://houseofgraphs.org/meta-directory/trees. Same situation.\n",
    "\n",
    "import requests\n",
    "\n",
    "url = \"https://users.cecs.anu.edu.au/~bdm/data/\"\n",
    "\n",
    "brendan_file_names = [\n",
    "  \"graph2c.g6\",\n",
    "  \"graph3c.g6\",\n",
    "  \"graph4c.g6\",\n",
    "  \"graph5c.g6\",\n",
    "  \"graph6c.g6\",\n",
    "  \"graph7c.g6\",\n",
    "  \"graph8c.g6\",\n",
    "  \"graph9c.g6\",\n",
    "  \"hitree23.txt\",\n",
    "  \"hitree24.txt\",\n",
    "  \"hitree25.txt\"]\n",
    "  \n",
    "for file_name in brendan_file_names:\n",
    "  response = requests.get(url + file_name)\n",
    "  if response.status_code == 200:\n",
    "    with open(\"databases/BrendanMcKay/\" + file_name, \"wb\") as file:\n",
    "      file.write(response.content)\n",
    "  else:\n",
    "    print(\"Failed to download file:\", response.status_code)"
   ]
  },
  {
   "cell_type": "code",
   "execution_count": 24,
   "metadata": {},
   "outputs": [],
   "source": [
    "# [WORK IN PROGRESS] Insert Brendan McKay's data\n",
    "\n",
    "import networkx as nx\n",
    "\n",
    "# Parse text into edges\n",
    "def parse_edges(text):\n",
    "  edge_list = []\n",
    "  parts = text.strip().split()\n",
    "  for i in range(0, len(parts), 2):\n",
    "    edge_list.append((int(parts[i]), int(parts[i + 1])))\n",
    "  return edge_list\n",
    "\n",
    "# Convert graph to g6 WARNING: all entries have prefix >>graph6<<\n",
    "def convert_to_g6(graph):\n",
    "  return nx.to_graph6_bytes(graph).decode('utf-8').strip()\n",
    "\n",
    "conn = sqlite3.connect('databases/all_graphs.db')\n",
    "cursor = conn.cursor()\n",
    "\n",
    "for file_name in brendan_file_names:\n",
    "  with open(\"databases/BrendanMcKay/\"+file_name, 'r') as file:\n",
    "    for line in file:\n",
    "      edges = parse_edges(line)\n",
    "      num_edges = len(edges)\n",
    "      G = nx.Graph()\n",
    "      G.add_edges_from(edges)\n",
    "      graph_g6 = convert_to_g6(G)\n",
    "      num_nodes = len(G.nodes())\n",
    "      is_connected = nx.is_connected(G)\n",
    "      \n",
    "      db_write(conn, graph_g6, num_nodes, num_edges, is_connected, True)\n",
    "\n",
    "conn.close()"
   ]
  },
  {
   "cell_type": "code",
   "execution_count": 27,
   "metadata": {},
   "outputs": [
    {
     "name": "stdout",
     "output_type": "stream",
     "text": [
      "(29690, '>>graph6<<VhCGOOGA?OA?G?O?O???@??C??G??O??O??O??GC????', 23, 22, 1, 1, None, None, None)\n"
     ]
    }
   ],
   "source": [
    "# Read database\n",
    "\n",
    "conn = sqlite3.connect('databases/graphs.db')\n",
    "cursor = conn.cursor()\n",
    "\n",
    "cursor.execute('SELECT * FROM graphs WHERE graph_g6 = ?', ('>>graph6<<VhCGOOGA?OA?G?O?O???@??C??G??O??O??O??GC????',))\n",
    "row = cursor.fetchone()\n",
    "print(row)\n",
    "\n",
    "conn.close()"
   ]
  }
 ],
 "metadata": {
  "kernelspec": {
   "display_name": "Python 3",
   "language": "python",
   "name": "python3"
  },
  "language_info": {
   "codemirror_mode": {
    "name": "ipython",
    "version": 3
   },
   "file_extension": ".py",
   "mimetype": "text/x-python",
   "name": "python",
   "nbconvert_exporter": "python",
   "pygments_lexer": "ipython3",
   "version": "3.9.0"
  }
 },
 "nbformat": 4,
 "nbformat_minor": 2
}
