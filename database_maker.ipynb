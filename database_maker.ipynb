{
 "cells": [
  {
   "cell_type": "code",
   "execution_count": null,
   "metadata": {},
   "outputs": [],
   "source": [
    "# Create consolidated database with SQLite\n",
    "\n",
    "import sqlite3\n",
    "\n",
    "conn = sqlite3.connect('databases/graphs.db')\n",
    "cursor = conn.cursor()\n",
    "\n",
    "# Create table\n",
    "cursor.execute('''CREATE TABLE IF NOT EXISTS graphs\n",
    "               (id INTEGER PRIMARY KEY,\n",
    "               graph_g6 TEXT,\n",
    "               num_nodes INTEGER,\n",
    "               num_edges INTEGER,\n",
    "               is_connected BOOLEAN,\n",
    "               is_tree BOOLEAN,\n",
    "               is_local BOOLEAN,\n",
    "               is_global BOOLEAN,\n",
    "               fer BLOB)''')\n",
    "\n",
    "conn.close()"
   ]
  }
 ],
 "metadata": {
  "language_info": {
   "name": "python"
  }
 },
 "nbformat": 4,
 "nbformat_minor": 2
}
