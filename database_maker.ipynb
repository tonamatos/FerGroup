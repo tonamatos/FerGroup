{
 "cells": [
  {
   "cell_type": "code",
   "execution_count": 4,
   "metadata": {},
   "outputs": [
    {
     "ename": "OperationalError",
     "evalue": "no such column: degree_sequence",
     "output_type": "error",
     "traceback": [
      "\u001b[1;31m---------------------------------------------------------------------------\u001b[0m",
      "\u001b[1;31mOperationalError\u001b[0m                          Traceback (most recent call last)",
      "Cell \u001b[1;32mIn[4], line 26\u001b[0m\n\u001b[0;32m      9\u001b[0m cursor\u001b[38;5;241m.\u001b[39mexecute(\u001b[38;5;124m'''\u001b[39m\n\u001b[0;32m     10\u001b[0m \u001b[38;5;124mCREATE TABLE IF NOT EXISTS graphs (\u001b[39m\n\u001b[0;32m     11\u001b[0m \u001b[38;5;124m    id INTEGER PRIMARY KEY,\u001b[39m\n\u001b[1;32m   (...)\u001b[0m\n\u001b[0;32m     21\u001b[0m \u001b[38;5;124m    fer_group_encoded BLOB,\u001b[39m\n\u001b[0;32m     22\u001b[0m \u001b[38;5;124m    UNIQUE(graph6))\u001b[39m\u001b[38;5;124m'''\u001b[39m)\n\u001b[0;32m     24\u001b[0m \u001b[38;5;66;03m# Index on degree_sequence and triangle_sequence for fast isomorphism checks.\u001b[39;00m\n\u001b[0;32m     25\u001b[0m \u001b[38;5;66;03m# Two graphs have the same index iff networkx.fast_could_be_iso thinks they are the same.\u001b[39;00m\n\u001b[1;32m---> 26\u001b[0m \u001b[43mcursor\u001b[49m\u001b[38;5;241;43m.\u001b[39;49m\u001b[43mexecute\u001b[49m\u001b[43m(\u001b[49m\u001b[38;5;124;43m'\u001b[39;49m\u001b[38;5;124;43mCREATE INDEX IF NOT EXISTS idx_fast_iso ON graphs(degree_sequence, triangle_sequence)\u001b[39;49m\u001b[38;5;124;43m'\u001b[39;49m\u001b[43m)\u001b[49m\n\u001b[0;32m     28\u001b[0m conn\u001b[38;5;241m.\u001b[39mcommit()\n\u001b[0;32m     29\u001b[0m conn\u001b[38;5;241m.\u001b[39mclose()\n",
      "\u001b[1;31mOperationalError\u001b[0m: no such column: degree_sequence"
     ]
    }
   ],
   "source": [
    "# Create consolidated database with SQLite\n",
    "\n",
    "import sqlite3\n",
    "\n",
    "conn = sqlite3.connect('databases/graphs.db')\n",
    "cursor = conn.cursor()\n",
    "\n",
    "# Create graphs table\n",
    "cursor.execute('''\n",
    "CREATE TABLE IF NOT EXISTS graphs (\n",
    "    id INTEGER PRIMARY KEY,\n",
    "    graph6 TEXT NOT NULL,\n",
    "    degree_seq TEXT NOT NULL,\n",
    "    triangle_seq TEXT NOT NULL,\n",
    "    num_nodes INTEGER NOT NULL,\n",
    "    num_edges INTEGER NOT NULL,\n",
    "    is_connected BOOLEAN,\n",
    "    is_tree BOOLEAN,\n",
    "    is_local BOOLEAN,\n",
    "    is_global BOOLEAN,\n",
    "    fer_group_encoded BLOB,\n",
    "    UNIQUE(graph6))''')\n",
    "\n",
    "# Index on degree_sequence and triangle_sequence for fast isomorphism checks.\n",
    "# Two graphs have the same index iff networkx.fast_could_be_iso thinks they are the same.\n",
    "cursor.execute('CREATE INDEX IF NOT EXISTS idx_fast_iso ON graphs(degree_sequence, triangle_sequence)')\n",
    "\n",
    "conn.commit()\n",
    "conn.close()"
   ]
  },
  {
   "cell_type": "code",
   "execution_count": 3,
   "metadata": {},
   "outputs": [
    {
     "ename": "OperationalError",
     "evalue": "no such table: graphs",
     "output_type": "error",
     "traceback": [
      "\u001b[1;31m---------------------------------------------------------------------------\u001b[0m",
      "\u001b[1;31mOperationalError\u001b[0m                          Traceback (most recent call last)",
      "Cell \u001b[1;32mIn[3], line 39\u001b[0m\n\u001b[0;32m     35\u001b[0m   is_tree \u001b[38;5;241m=\u001b[39m \u001b[38;5;28;01mNone\u001b[39;00m\n\u001b[0;32m     37\u001b[0m   degree_seq, triangle_seq \u001b[38;5;241m=\u001b[39m graph6_to_iso_invariants(graph6)\n\u001b[1;32m---> 39\u001b[0m   \u001b[43mdb_write\u001b[49m\u001b[43m(\u001b[49m\u001b[43mconn\u001b[49m\u001b[43m,\u001b[49m\u001b[43m \u001b[49m\u001b[43mgraph6\u001b[49m\u001b[43m,\u001b[49m\u001b[43m \u001b[49m\u001b[43mdegree_seq\u001b[49m\u001b[43m,\u001b[49m\u001b[43m \u001b[49m\u001b[43mtriangle_seq\u001b[49m\u001b[43m,\u001b[49m\u001b[43m \u001b[49m\u001b[43mnum_nodes\u001b[49m\u001b[43m,\u001b[49m\u001b[43m \u001b[49m\u001b[43mnum_edges\u001b[49m\u001b[43m,\u001b[49m\n\u001b[0;32m     40\u001b[0m \u001b[43m           \u001b[49m\u001b[43mis_connected\u001b[49m\u001b[43m,\u001b[49m\u001b[43m \u001b[49m\u001b[43mis_tree\u001b[49m\u001b[43m,\u001b[49m\u001b[43m \u001b[49m\u001b[43mis_local\u001b[49m\u001b[43m,\u001b[49m\u001b[43m \u001b[49m\u001b[43mis_global\u001b[49m\u001b[43m,\u001b[49m\n\u001b[0;32m     41\u001b[0m \u001b[43m           \u001b[49m\u001b[43mfer_group_encoded\u001b[49m\u001b[38;5;241;43m=\u001b[39;49m\u001b[38;5;28;43;01mNone\u001b[39;49;00m\u001b[43m)\u001b[49m\n\u001b[0;32m     43\u001b[0m conn\u001b[38;5;241m.\u001b[39mclose()\n",
      "File \u001b[1;32mc:\\Users\\Tonatiuh\\OneDrive\\Documentos\\GitHub\\FerGroup\\database_handler.py:22\u001b[0m, in \u001b[0;36mdb_write\u001b[1;34m(conn, graph6, degree_seq, triangle_seq, num_nodes, num_edges, is_connected, is_tree, is_local, is_global, fer_group_encoded)\u001b[0m\n\u001b[0;32m     20\u001b[0m   fer \u001b[38;5;241m=\u001b[39m \u001b[38;5;28;01mNone\u001b[39;00m\n\u001b[0;32m     21\u001b[0m cursor \u001b[38;5;241m=\u001b[39m conn\u001b[38;5;241m.\u001b[39mcursor()\n\u001b[1;32m---> 22\u001b[0m \u001b[43mcursor\u001b[49m\u001b[38;5;241;43m.\u001b[39;49m\u001b[43mexecute\u001b[49m\u001b[43m(\u001b[49m\u001b[38;5;124;43m'''\u001b[39;49m\u001b[38;5;124;43mINSERT INTO graphs\u001b[39;49m\n\u001b[0;32m     23\u001b[0m \u001b[38;5;124;43m               (graph6,\u001b[39;49m\n\u001b[0;32m     24\u001b[0m \u001b[38;5;124;43m               degree_seq,\u001b[39;49m\n\u001b[0;32m     25\u001b[0m \u001b[38;5;124;43m               triangle_seq,\u001b[39;49m\n\u001b[0;32m     26\u001b[0m \u001b[38;5;124;43m               num_nodes,\u001b[39;49m\n\u001b[0;32m     27\u001b[0m \u001b[38;5;124;43m               num_edges,\u001b[39;49m\n\u001b[0;32m     28\u001b[0m \u001b[38;5;124;43m               is_connected,\u001b[39;49m\n\u001b[0;32m     29\u001b[0m \u001b[38;5;124;43m               is_tree,\u001b[39;49m\n\u001b[0;32m     30\u001b[0m \u001b[38;5;124;43m               is_local,\u001b[39;49m\n\u001b[0;32m     31\u001b[0m \u001b[38;5;124;43m               is_global,\u001b[39;49m\n\u001b[0;32m     32\u001b[0m \u001b[38;5;124;43m               fer_group_encoded)\u001b[39;49m\n\u001b[0;32m     33\u001b[0m \u001b[38;5;124;43m                VALUES (?, ?, ?, ?, ?, ?, ?, ?)\u001b[39;49m\u001b[38;5;124;43m'''\u001b[39;49m\u001b[43m,\u001b[49m\n\u001b[0;32m     34\u001b[0m \u001b[43m             \u001b[49m\u001b[43m(\u001b[49m\u001b[43mgraph6\u001b[49m\u001b[43m,\u001b[49m\u001b[43m \u001b[49m\u001b[43mnum_nodes\u001b[49m\u001b[43m,\u001b[49m\u001b[43m \u001b[49m\u001b[43mnum_edges\u001b[49m\u001b[43m,\u001b[49m\u001b[43m \u001b[49m\u001b[43mis_connected\u001b[49m\u001b[43m,\u001b[49m\n\u001b[0;32m     35\u001b[0m \u001b[43m              \u001b[49m\u001b[43mis_tree\u001b[49m\u001b[43m,\u001b[49m\u001b[43m \u001b[49m\u001b[43mis_local\u001b[49m\u001b[43m,\u001b[49m\u001b[43m \u001b[49m\u001b[43mis_global\u001b[49m\u001b[43m,\u001b[49m\u001b[43m \u001b[49m\u001b[43mfer\u001b[49m\u001b[43m)\u001b[49m\u001b[43m)\u001b[49m\n\u001b[0;32m     37\u001b[0m conn\u001b[38;5;241m.\u001b[39mcommit()\n",
      "\u001b[1;31mOperationalError\u001b[0m: no such table: graphs"
     ]
    }
   ],
   "source": [
    "# Add Marcos Laffitte's 1-10 amoeba graphs\n",
    "\n",
    "# Header looks like (1, 0, 'conexa', 'ambas', '@')\n",
    "import pickle\n",
    "from database_handler import db_write, graph6_to_iso_invariants\n",
    "\n",
    "with open(\"databases/MarcosLaffitte/Amoeba_Graphs_1_to_10_vertices_raw.pkl\", \"rb\") as file:\n",
    "  data = pickle.load(file)\n",
    "\n",
    "conn = sqlite3.connect('databases/graphs.db')\n",
    "cursor = conn.cursor()\n",
    "\n",
    "for data_point in data:\n",
    "  graph6  = data_point[4]\n",
    "  num_nodes = data_point[0]\n",
    "  num_edges = data_point[1]\n",
    "\n",
    "  if data_point[2] == 'conexa':\n",
    "    is_connected = True\n",
    "  elif data_point[2] == 'disconexa':\n",
    "    is_connected = False\n",
    "  else:\n",
    "    raise ValueError(\"is_connected:\",data_point[2])\n",
    "\n",
    "  if data_point[3] in ['local','ambas']:\n",
    "    is_local = True\n",
    "  else:\n",
    "    is_local = False\n",
    "\n",
    "  if data_point[3] in ['global','ambas']:\n",
    "    is_global = True\n",
    "  else:\n",
    "    is_global = False\n",
    "\n",
    "  is_tree = None\n",
    "\n",
    "  degree_seq, triangle_seq = graph6_to_iso_invariants(graph6)\n",
    "\n",
    "  db_write(conn, graph6, degree_seq, triangle_seq, num_nodes, num_edges,\n",
    "           is_connected, is_tree, is_local, is_global,\n",
    "           fer_group_encoded=None)\n",
    "\n",
    "conn.close()"
   ]
  },
  {
   "cell_type": "code",
   "execution_count": null,
   "metadata": {},
   "outputs": [],
   "source": [
    "# Add Marcos Laffitte's 11-22 amoeba trees\n",
    "\n",
    "# Header looks like (1, 0, 'conexa', 'LA', '@')\n",
    "\n",
    "conn = sqlite3.connect('databases/all_graphs.db')\n",
    "cursor = conn.cursor()\n",
    "\n",
    "with open(\"databases/MarcosLaffitte/Amoeba_Trees_1_to_22_vertices_raw.pkl\", \"rb\") as file:\n",
    "  data = pickle.load(file)\n",
    "\n",
    "conn = sqlite3.connect('databases/graphs.db')\n",
    "cursor = conn.cursor()\n",
    "\n",
    "for data_point in data:\n",
    "  # Filter small trees to avoid repetitions\n",
    "  num_nodes = data_point[0]\n",
    "  if num_nodes < 11:\n",
    "    continue\n",
    "\n",
    "  graph_g6  = data_point[4]\n",
    "  num_edges = data_point[1]\n",
    "  is_connected = True\n",
    "  is_tree = True\n",
    "  \n",
    "  if data_point[3] == 'LA':\n",
    "    is_local  = True\n",
    "    is_global = True # Local trees are always global see Proposition 6 of seminal paper.\n",
    "  elif data_point[3] == 'GA':\n",
    "    is_global = True\n",
    "    is_local  = False\n",
    "  else:\n",
    "    raise ValueError(\"is_amoeba:\",data_point[3])\n",
    "\n",
    "  degree_seq, triangle_seq = graph6_to_iso_invariants(graph6)\n",
    "\n",
    "  db_write(conn, graph6, degree_seq, triangle_seq, num_nodes, num_edges,\n",
    "           is_connected, is_tree, is_local, is_global,\n",
    "           fer_group_encoded=None)\n",
    "\n",
    "conn.close()"
   ]
  },
  {
   "cell_type": "code",
   "execution_count": null,
   "metadata": {},
   "outputs": [],
   "source": [
    "# Add homeomorphically reduced 23-25 trees\n",
    "\n"
   ]
  }
 ],
 "metadata": {
  "kernelspec": {
   "display_name": "Python 3",
   "language": "python",
   "name": "python3"
  },
  "language_info": {
   "codemirror_mode": {
    "name": "ipython",
    "version": 3
   },
   "file_extension": ".py",
   "mimetype": "text/x-python",
   "name": "python",
   "nbconvert_exporter": "python",
   "pygments_lexer": "ipython3",
   "version": "3.9.0"
  }
 },
 "nbformat": 4,
 "nbformat_minor": 2
}
