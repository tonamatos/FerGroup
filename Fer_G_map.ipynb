{
 "cells": [
  {
   "cell_type": "code",
   "execution_count": 1,
   "metadata": {},
   "outputs": [],
   "source": [
    "import sqlite3\n",
    "from database_handler import ferGroupS\n",
    "from tqdm import tqdm"
   ]
  },
  {
   "cell_type": "code",
   "execution_count": 2,
   "metadata": {},
   "outputs": [
    {
     "name": "stdout",
     "output_type": "stream",
     "text": [
      "Resuming from ID: 38540\n"
     ]
    },
    {
     "name": "stderr",
     "output_type": "stream",
     "text": [
      "Processing Rows:   1%|          | 304/51734 [1:12:13<168:02:38, 11.76s/it]"
     ]
    },
    {
     "ename": "KeyboardInterrupt",
     "evalue": "",
     "output_type": "error",
     "traceback": [
      "\u001b[1;31m---------------------------------------------------------------------------\u001b[0m",
      "\u001b[1;31mKeyboardInterrupt\u001b[0m                         Traceback (most recent call last)",
      "Cell \u001b[1;32mIn[2], line 35\u001b[0m\n\u001b[0;32m     32\u001b[0m \u001b[38;5;28;01mfor\u001b[39;00m row \u001b[38;5;129;01min\u001b[39;00m rows:\n\u001b[0;32m     33\u001b[0m     current_id, graph6 \u001b[38;5;241m=\u001b[39m row\n\u001b[1;32m---> 35\u001b[0m     fer_group_s \u001b[38;5;241m=\u001b[39m \u001b[43mferGroupS\u001b[49m\u001b[43m(\u001b[49m\u001b[43mgraph6\u001b[49m\u001b[43m)\u001b[49m\n\u001b[0;32m     37\u001b[0m     \u001b[38;5;66;03m# Update the row with the computed result\u001b[39;00m\n\u001b[0;32m     38\u001b[0m     cursor\u001b[38;5;241m.\u001b[39mexecute(\u001b[38;5;124m\"\u001b[39m\u001b[38;5;124mUPDATE graphs SET fer_group = ? WHERE id = ?\u001b[39m\u001b[38;5;124m\"\u001b[39m, (fer_group_s, current_id))\n",
      "File \u001b[1;32mc:\\Users\\Tonatiuh\\OneDrive\\Documentos\\GitHub\\FerGroup\\database_handler.py:9\u001b[0m, in \u001b[0;36mferGroupS\u001b[1;34m(graph6)\u001b[0m\n\u001b[0;32m      6\u001b[0m \u001b[38;5;28;01mdef\u001b[39;00m \u001b[38;5;21mferGroupS\u001b[39m(graph6):\n\u001b[0;32m      7\u001b[0m   G \u001b[38;5;241m=\u001b[39m nx\u001b[38;5;241m.\u001b[39mfrom_graph6_bytes(graph6\u001b[38;5;241m.\u001b[39mencode())\n\u001b[1;32m----> 9\u001b[0m   fer_group_e \u001b[38;5;241m=\u001b[39m \u001b[43mFer_group\u001b[49m\u001b[43m(\u001b[49m\u001b[43mG\u001b[49m\u001b[43m)\u001b[49m\u001b[38;5;241m.\u001b[39mencode() \u001b[38;5;66;03m# Encode\u001b[39;00m\n\u001b[0;32m     11\u001b[0m   fer_group_s \u001b[38;5;241m=\u001b[39m pickle\u001b[38;5;241m.\u001b[39mdumps(fer_group_e) \u001b[38;5;66;03m# Serialize\u001b[39;00m\n\u001b[0;32m     13\u001b[0m   \u001b[38;5;28;01mreturn\u001b[39;00m fer_group_s\n",
      "File \u001b[1;32mc:\\Users\\Tonatiuh\\OneDrive\\Documentos\\GitHub\\FerGroup\\fer_group.py:22\u001b[0m, in \u001b[0;36mFer_group.__init__\u001b[1;34m(self, colored_graph, encoded)\u001b[0m\n\u001b[0;32m     20\u001b[0m   FGroup \u001b[38;5;241m=\u001b[39m FerGroup_decoder(colored_graph, encoded)\n\u001b[0;32m     21\u001b[0m \u001b[38;5;28;01melse\u001b[39;00m:\n\u001b[1;32m---> 22\u001b[0m   FGroup \u001b[38;5;241m=\u001b[39m \u001b[43mFerGroup\u001b[49m\u001b[43m(\u001b[49m\u001b[43mcolored_graph\u001b[49m\u001b[43m)\u001b[49m\n\u001b[0;32m     24\u001b[0m \u001b[38;5;28mself\u001b[39m\u001b[38;5;241m.\u001b[39mgenerators \u001b[38;5;241m=\u001b[39m \u001b[38;5;28mlist\u001b[39m(FGroup\u001b[38;5;241m.\u001b[39mvalues()) \u001b[38;5;66;03m# Set of Fer objects including Aut(G)\u001b[39;00m\n\u001b[0;32m     25\u001b[0m \u001b[38;5;28mself\u001b[39m\u001b[38;5;241m.\u001b[39m_encoded \u001b[38;5;241m=\u001b[39m encoded\n",
      "File \u001b[1;32mc:\\Users\\Tonatiuh\\OneDrive\\Documentos\\GitHub\\FerGroup\\Fer_G.py:125\u001b[0m, in \u001b[0;36mFerGroup\u001b[1;34m(colored_graph)\u001b[0m\n\u001b[0;32m    123\u001b[0m \u001b[38;5;28;01mfor\u001b[39;00m old_edge \u001b[38;5;129;01min\u001b[39;00m edges:\n\u001b[0;32m    124\u001b[0m   \u001b[38;5;28;01mfor\u001b[39;00m new_edge \u001b[38;5;129;01min\u001b[39;00m nonedges:\n\u001b[1;32m--> 125\u001b[0m     iso \u001b[38;5;241m=\u001b[39m \u001b[43misFer\u001b[49m\u001b[43m(\u001b[49m\u001b[43mcolored_graph\u001b[49m\u001b[43m,\u001b[49m\u001b[43m \u001b[49m\u001b[43mold_edge\u001b[49m\u001b[43m,\u001b[49m\u001b[43m \u001b[49m\u001b[43mnew_edge\u001b[49m\u001b[43m)\u001b[49m\n\u001b[0;32m    126\u001b[0m     \u001b[38;5;28;01mif\u001b[39;00m iso:\n\u001b[0;32m    127\u001b[0m       iso_tuple \u001b[38;5;241m=\u001b[39m \u001b[38;5;28mtuple\u001b[39m(iso[i] \u001b[38;5;28;01mfor\u001b[39;00m i \u001b[38;5;129;01min\u001b[39;00m \u001b[38;5;28mrange\u001b[39m(\u001b[38;5;28mlen\u001b[39m(iso)))\n",
      "File \u001b[1;32mc:\\Users\\Tonatiuh\\OneDrive\\Documentos\\GitHub\\FerGroup\\Fer_G.py:84\u001b[0m, in \u001b[0;36misFer\u001b[1;34m(colored_graph, old_edge, new_edge, allIso)\u001b[0m\n\u001b[0;32m     82\u001b[0m \u001b[38;5;66;03m# Else, just return the first one that the GraphMatcher finds.\u001b[39;00m\n\u001b[0;32m     83\u001b[0m \u001b[38;5;28;01mtry\u001b[39;00m:\n\u001b[1;32m---> 84\u001b[0m   first_iso \u001b[38;5;241m=\u001b[39m iso_invert(\u001b[38;5;28;43mnext\u001b[39;49m\u001b[43m(\u001b[49m\u001b[43mGM\u001b[49m\u001b[38;5;241;43m.\u001b[39;49m\u001b[43msubgraph_isomorphisms_iter\u001b[49m\u001b[43m(\u001b[49m\u001b[43m)\u001b[49m\u001b[43m)\u001b[49m)\n\u001b[0;32m     85\u001b[0m   \u001b[38;5;28;01mreturn\u001b[39;00m first_iso\n\u001b[0;32m     86\u001b[0m \u001b[38;5;28;01mexcept\u001b[39;00m \u001b[38;5;167;01mStopIteration\u001b[39;00m:\n",
      "File \u001b[1;32mc:\\Users\\Tonatiuh\\AppData\\Local\\Programs\\Python\\Python39\\lib\\site-packages\\networkx\\algorithms\\isomorphism\\isomorphvf2.py:384\u001b[0m, in \u001b[0;36mGraphMatcher.subgraph_isomorphisms_iter\u001b[1;34m(self)\u001b[0m\n\u001b[0;32m    382\u001b[0m \u001b[38;5;28mself\u001b[39m\u001b[38;5;241m.\u001b[39mtest \u001b[38;5;241m=\u001b[39m \u001b[38;5;124m\"\u001b[39m\u001b[38;5;124msubgraph\u001b[39m\u001b[38;5;124m\"\u001b[39m\n\u001b[0;32m    383\u001b[0m \u001b[38;5;28mself\u001b[39m\u001b[38;5;241m.\u001b[39minitialize()\n\u001b[1;32m--> 384\u001b[0m \u001b[38;5;28;01myield from\u001b[39;00m \u001b[38;5;28mself\u001b[39m\u001b[38;5;241m.\u001b[39mmatch()\n",
      "File \u001b[1;32mc:\\Users\\Tonatiuh\\AppData\\Local\\Programs\\Python\\Python39\\lib\\site-packages\\networkx\\algorithms\\isomorphism\\isomorphvf2.py:316\u001b[0m, in \u001b[0;36mGraphMatcher.match\u001b[1;34m(self)\u001b[0m\n\u001b[0;32m    313\u001b[0m \u001b[38;5;28;01mif\u001b[39;00m \u001b[38;5;28mself\u001b[39m\u001b[38;5;241m.\u001b[39msemantic_feasibility(G1_node, G2_node):\n\u001b[0;32m    314\u001b[0m     \u001b[38;5;66;03m# Recursive call, adding the feasible state.\u001b[39;00m\n\u001b[0;32m    315\u001b[0m     newstate \u001b[38;5;241m=\u001b[39m \u001b[38;5;28mself\u001b[39m\u001b[38;5;241m.\u001b[39mstate\u001b[38;5;241m.\u001b[39m\u001b[38;5;18m__class__\u001b[39m(\u001b[38;5;28mself\u001b[39m, G1_node, G2_node)\n\u001b[1;32m--> 316\u001b[0m     \u001b[38;5;28;01myield from\u001b[39;00m \u001b[38;5;28mself\u001b[39m\u001b[38;5;241m.\u001b[39mmatch()\n\u001b[0;32m    318\u001b[0m     \u001b[38;5;66;03m# restore data structures\u001b[39;00m\n\u001b[0;32m    319\u001b[0m     newstate\u001b[38;5;241m.\u001b[39mrestore()\n",
      "File \u001b[1;32mc:\\Users\\Tonatiuh\\AppData\\Local\\Programs\\Python\\Python39\\lib\\site-packages\\networkx\\algorithms\\isomorphism\\isomorphvf2.py:316\u001b[0m, in \u001b[0;36mGraphMatcher.match\u001b[1;34m(self)\u001b[0m\n\u001b[0;32m    313\u001b[0m \u001b[38;5;28;01mif\u001b[39;00m \u001b[38;5;28mself\u001b[39m\u001b[38;5;241m.\u001b[39msemantic_feasibility(G1_node, G2_node):\n\u001b[0;32m    314\u001b[0m     \u001b[38;5;66;03m# Recursive call, adding the feasible state.\u001b[39;00m\n\u001b[0;32m    315\u001b[0m     newstate \u001b[38;5;241m=\u001b[39m \u001b[38;5;28mself\u001b[39m\u001b[38;5;241m.\u001b[39mstate\u001b[38;5;241m.\u001b[39m\u001b[38;5;18m__class__\u001b[39m(\u001b[38;5;28mself\u001b[39m, G1_node, G2_node)\n\u001b[1;32m--> 316\u001b[0m     \u001b[38;5;28;01myield from\u001b[39;00m \u001b[38;5;28mself\u001b[39m\u001b[38;5;241m.\u001b[39mmatch()\n\u001b[0;32m    318\u001b[0m     \u001b[38;5;66;03m# restore data structures\u001b[39;00m\n\u001b[0;32m    319\u001b[0m     newstate\u001b[38;5;241m.\u001b[39mrestore()\n",
      "    \u001b[1;31m[... skipping similar frames: GraphMatcher.match at line 316 (3 times)]\u001b[0m\n",
      "File \u001b[1;32mc:\\Users\\Tonatiuh\\AppData\\Local\\Programs\\Python\\Python39\\lib\\site-packages\\networkx\\algorithms\\isomorphism\\isomorphvf2.py:316\u001b[0m, in \u001b[0;36mGraphMatcher.match\u001b[1;34m(self)\u001b[0m\n\u001b[0;32m    313\u001b[0m \u001b[38;5;28;01mif\u001b[39;00m \u001b[38;5;28mself\u001b[39m\u001b[38;5;241m.\u001b[39msemantic_feasibility(G1_node, G2_node):\n\u001b[0;32m    314\u001b[0m     \u001b[38;5;66;03m# Recursive call, adding the feasible state.\u001b[39;00m\n\u001b[0;32m    315\u001b[0m     newstate \u001b[38;5;241m=\u001b[39m \u001b[38;5;28mself\u001b[39m\u001b[38;5;241m.\u001b[39mstate\u001b[38;5;241m.\u001b[39m\u001b[38;5;18m__class__\u001b[39m(\u001b[38;5;28mself\u001b[39m, G1_node, G2_node)\n\u001b[1;32m--> 316\u001b[0m     \u001b[38;5;28;01myield from\u001b[39;00m \u001b[38;5;28mself\u001b[39m\u001b[38;5;241m.\u001b[39mmatch()\n\u001b[0;32m    318\u001b[0m     \u001b[38;5;66;03m# restore data structures\u001b[39;00m\n\u001b[0;32m    319\u001b[0m     newstate\u001b[38;5;241m.\u001b[39mrestore()\n",
      "File \u001b[1;32mc:\\Users\\Tonatiuh\\AppData\\Local\\Programs\\Python\\Python39\\lib\\site-packages\\networkx\\algorithms\\isomorphism\\isomorphvf2.py:312\u001b[0m, in \u001b[0;36mGraphMatcher.match\u001b[1;34m(self)\u001b[0m\n\u001b[0;32m    310\u001b[0m \u001b[38;5;28;01melse\u001b[39;00m:\n\u001b[0;32m    311\u001b[0m     \u001b[38;5;28;01mfor\u001b[39;00m G1_node, G2_node \u001b[38;5;129;01min\u001b[39;00m \u001b[38;5;28mself\u001b[39m\u001b[38;5;241m.\u001b[39mcandidate_pairs_iter():\n\u001b[1;32m--> 312\u001b[0m         \u001b[38;5;28;01mif\u001b[39;00m \u001b[38;5;28;43mself\u001b[39;49m\u001b[38;5;241;43m.\u001b[39;49m\u001b[43msyntactic_feasibility\u001b[49m\u001b[43m(\u001b[49m\u001b[43mG1_node\u001b[49m\u001b[43m,\u001b[49m\u001b[43m \u001b[49m\u001b[43mG2_node\u001b[49m\u001b[43m)\u001b[49m:\n\u001b[0;32m    313\u001b[0m             \u001b[38;5;28;01mif\u001b[39;00m \u001b[38;5;28mself\u001b[39m\u001b[38;5;241m.\u001b[39msemantic_feasibility(G1_node, G2_node):\n\u001b[0;32m    314\u001b[0m                 \u001b[38;5;66;03m# Recursive call, adding the feasible state.\u001b[39;00m\n\u001b[0;32m    315\u001b[0m                 newstate \u001b[38;5;241m=\u001b[39m \u001b[38;5;28mself\u001b[39m\u001b[38;5;241m.\u001b[39mstate\u001b[38;5;241m.\u001b[39m\u001b[38;5;18m__class__\u001b[39m(\u001b[38;5;28mself\u001b[39m, G1_node, G2_node)\n",
      "File \u001b[1;32mc:\\Users\\Tonatiuh\\AppData\\Local\\Programs\\Python\\Python39\\lib\\site-packages\\networkx\\algorithms\\isomorphism\\isomorphvf2.py:450\u001b[0m, in \u001b[0;36mGraphMatcher.syntactic_feasibility\u001b[1;34m(self, G1_node, G2_node)\u001b[0m\n\u001b[0;32m    448\u001b[0m \u001b[38;5;28;01mfor\u001b[39;00m neighbor \u001b[38;5;129;01min\u001b[39;00m \u001b[38;5;28mself\u001b[39m\u001b[38;5;241m.\u001b[39mG1[G1_node]:\n\u001b[0;32m    449\u001b[0m     \u001b[38;5;28;01mif\u001b[39;00m neighbor \u001b[38;5;129;01min\u001b[39;00m \u001b[38;5;28mself\u001b[39m\u001b[38;5;241m.\u001b[39mcore_1:\n\u001b[1;32m--> 450\u001b[0m         \u001b[38;5;28;01mif\u001b[39;00m \u001b[38;5;28mself\u001b[39m\u001b[38;5;241m.\u001b[39mcore_1[neighbor] \u001b[38;5;129;01mnot\u001b[39;00m \u001b[38;5;129;01min\u001b[39;00m \u001b[38;5;28;43mself\u001b[39;49m\u001b[38;5;241;43m.\u001b[39;49m\u001b[43mG2\u001b[49m\u001b[43m[\u001b[49m\u001b[43mG2_node\u001b[49m\u001b[43m]\u001b[49m:\n\u001b[0;32m    451\u001b[0m             \u001b[38;5;28;01mreturn\u001b[39;00m \u001b[38;5;28;01mFalse\u001b[39;00m\n\u001b[0;32m    452\u001b[0m         \u001b[38;5;28;01melif\u001b[39;00m \u001b[38;5;28mself\u001b[39m\u001b[38;5;241m.\u001b[39mG1\u001b[38;5;241m.\u001b[39mnumber_of_edges(\n\u001b[0;32m    453\u001b[0m             neighbor, G1_node\n\u001b[0;32m    454\u001b[0m         ) \u001b[38;5;241m!=\u001b[39m \u001b[38;5;28mself\u001b[39m\u001b[38;5;241m.\u001b[39mG2\u001b[38;5;241m.\u001b[39mnumber_of_edges(\u001b[38;5;28mself\u001b[39m\u001b[38;5;241m.\u001b[39mcore_1[neighbor], G2_node):\n",
      "File \u001b[1;32mc:\\Users\\Tonatiuh\\AppData\\Local\\Programs\\Python\\Python39\\lib\\site-packages\\networkx\\classes\\graph.py:513\u001b[0m, in \u001b[0;36mGraph.__getitem__\u001b[1;34m(self, n)\u001b[0m\n\u001b[0;32m    489\u001b[0m \u001b[38;5;28;01mdef\u001b[39;00m \u001b[38;5;21m__getitem__\u001b[39m(\u001b[38;5;28mself\u001b[39m, n):\n\u001b[0;32m    490\u001b[0m \u001b[38;5;250m    \u001b[39m\u001b[38;5;124;03m\"\"\"Returns a dict of neighbors of node n.  Use: 'G[n]'.\u001b[39;00m\n\u001b[0;32m    491\u001b[0m \n\u001b[0;32m    492\u001b[0m \u001b[38;5;124;03m    Parameters\u001b[39;00m\n\u001b[1;32m   (...)\u001b[0m\n\u001b[0;32m    511\u001b[0m \u001b[38;5;124;03m    AtlasView({1: {}})\u001b[39;00m\n\u001b[0;32m    512\u001b[0m \u001b[38;5;124;03m    \"\"\"\u001b[39;00m\n\u001b[1;32m--> 513\u001b[0m     \u001b[38;5;28;01mreturn\u001b[39;00m \u001b[38;5;28;43mself\u001b[39;49m\u001b[38;5;241;43m.\u001b[39;49m\u001b[43madj\u001b[49m\u001b[43m[\u001b[49m\u001b[43mn\u001b[49m\u001b[43m]\u001b[49m\n",
      "File \u001b[1;32mc:\\Users\\Tonatiuh\\AppData\\Local\\Programs\\Python\\Python39\\lib\\site-packages\\networkx\\classes\\coreviews.py:81\u001b[0m, in \u001b[0;36mAdjacencyView.__getitem__\u001b[1;34m(self, name)\u001b[0m\n\u001b[0;32m     80\u001b[0m \u001b[38;5;28;01mdef\u001b[39;00m \u001b[38;5;21m__getitem__\u001b[39m(\u001b[38;5;28mself\u001b[39m, name):\n\u001b[1;32m---> 81\u001b[0m     \u001b[38;5;28;01mreturn\u001b[39;00m \u001b[43mAtlasView\u001b[49m\u001b[43m(\u001b[49m\u001b[38;5;28;43mself\u001b[39;49m\u001b[38;5;241;43m.\u001b[39;49m\u001b[43m_atlas\u001b[49m\u001b[43m[\u001b[49m\u001b[43mname\u001b[49m\u001b[43m]\u001b[49m\u001b[43m)\u001b[49m\n",
      "File \u001b[1;32mc:\\Users\\Tonatiuh\\AppData\\Local\\Programs\\Python\\Python39\\lib\\site-packages\\networkx\\classes\\coreviews.py:44\u001b[0m, in \u001b[0;36mAtlasView.__init__\u001b[1;34m(self, d)\u001b[0m\n\u001b[0;32m     43\u001b[0m \u001b[38;5;28;01mdef\u001b[39;00m \u001b[38;5;21m__init__\u001b[39m(\u001b[38;5;28mself\u001b[39m, d):\n\u001b[1;32m---> 44\u001b[0m     \u001b[38;5;28;43mself\u001b[39;49m\u001b[38;5;241;43m.\u001b[39;49m\u001b[43m_atlas\u001b[49m \u001b[38;5;241m=\u001b[39m d\n",
      "\u001b[1;31mKeyboardInterrupt\u001b[0m: "
     ]
    }
   ],
   "source": [
    "# Connect to the SQLite database\n",
    "conn = sqlite3.connect('databases/graphs.db')\n",
    "cursor = conn.cursor()\n",
    "\n",
    "# Create checkpoint table with a primary key to ensure only one row exists\n",
    "cursor.execute(\"\"\"\n",
    "CREATE TABLE IF NOT EXISTS checkpoint (\n",
    "    id INTEGER PRIMARY KEY,\n",
    "    last_id INTEGER\n",
    ")\n",
    "\"\"\")\n",
    "conn.commit()\n",
    "\n",
    "# Fetch the last processed ID from the checkpoint table\n",
    "cursor.execute(\"SELECT last_id FROM checkpoint WHERE id = 1\")\n",
    "row = cursor.fetchone()\n",
    "last_id = row[0] if row else 0\n",
    "\n",
    "print(\"Resuming from ID:\", last_id)\n",
    "\n",
    "# Get the total number of rows to process\n",
    "cursor.execute(\"SELECT COUNT(*) FROM graphs WHERE id > ?\", (1,))\n",
    "total_rows = cursor.fetchone()[0]\n",
    "\n",
    "# Fetch all rows into memory starting from last processed ID\n",
    "cursor.execute(\"SELECT id, graph6 FROM graphs WHERE id > ? ORDER BY id\", (last_id,))\n",
    "rows = cursor.fetchall()\n",
    "\n",
    "progress_bar = tqdm(total=total_rows, initial=0, desc=\"Processing Rows\")\n",
    "\n",
    "# Process each row\n",
    "for row in rows:\n",
    "    current_id, graph6 = row\n",
    "\n",
    "    fer_group_s = ferGroupS(graph6)\n",
    "\n",
    "    # Update the row with the computed result\n",
    "    cursor.execute(\"UPDATE graphs SET fer_group = ? WHERE id = ?\", (fer_group_s, current_id))\n",
    "    \n",
    "    # Update the checkpoint and commit immediately\n",
    "    cursor.execute(\"INSERT OR REPLACE INTO checkpoint (id, last_id) VALUES (1, ?)\", (current_id,))\n",
    "    conn.commit()  # Ensure checkpoint and data are saved after each row  \n",
    "\n",
    "    # Update the progress bar\n",
    "    progress_bar.update(1)\n",
    "\n",
    "# Close the progress bar and connection\n",
    "progress_bar.close()\n",
    "conn.close()"
   ]
  }
 ],
 "metadata": {
  "kernelspec": {
   "display_name": "Python 3",
   "language": "python",
   "name": "python3"
  },
  "language_info": {
   "codemirror_mode": {
    "name": "ipython",
    "version": 3
   },
   "file_extension": ".py",
   "mimetype": "text/x-python",
   "name": "python",
   "nbconvert_exporter": "python",
   "pygments_lexer": "ipython3",
   "version": "3.9.0"
  }
 },
 "nbformat": 4,
 "nbformat_minor": 2
}
