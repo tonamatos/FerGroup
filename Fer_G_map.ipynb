{
 "cells": [
  {
   "cell_type": "code",
   "execution_count": 2,
   "metadata": {},
   "outputs": [],
   "source": [
    "import sqlite3\n",
    "from database_handler import db_read\n",
    "from fer_group import Fer_group\n",
    "from tqdm import tqdm\n",
    "import networkx as nx\n",
    "import pickle"
   ]
  },
  {
   "cell_type": "code",
   "execution_count": 28,
   "metadata": {},
   "outputs": [
    {
     "name": "stdout",
     "output_type": "stream",
     "text": [
      "Resuming from ID: 506\n",
      "Total rows to process: 173036\n"
     ]
    },
    {
     "name": "stderr",
     "output_type": "stream",
     "text": [
      "Processing Rows:   0%|          | 505/173542 [00:52<4:58:49,  9.65it/s]\n"
     ]
    },
    {
     "ename": "KeyboardInterrupt",
     "evalue": "",
     "output_type": "error",
     "traceback": [
      "\u001b[1;31m---------------------------------------------------------------------------\u001b[0m",
      "\u001b[1;31mKeyboardInterrupt\u001b[0m                         Traceback (most recent call last)",
      "Cell \u001b[1;32mIn[28], line 41\u001b[0m\n\u001b[0;32m     38\u001b[0m G \u001b[38;5;241m=\u001b[39m nx\u001b[38;5;241m.\u001b[39mfrom_graph6_bytes(graph_g6\u001b[38;5;241m.\u001b[39mencode())\n\u001b[0;32m     40\u001b[0m \u001b[38;5;66;03m# Compute Fer_group(G)\u001b[39;00m\n\u001b[1;32m---> 41\u001b[0m fer \u001b[38;5;241m=\u001b[39m \u001b[43mFer_group\u001b[49m\u001b[43m(\u001b[49m\u001b[43mG\u001b[49m\u001b[43m)\u001b[49m\n\u001b[0;32m     43\u001b[0m \u001b[38;5;66;03m# Serialize the result\u001b[39;00m\n\u001b[0;32m     44\u001b[0m s_fer \u001b[38;5;241m=\u001b[39m pickle\u001b[38;5;241m.\u001b[39mdumps(fer)\n",
      "File \u001b[1;32mc:\\Users\\Tonatiuh\\OneDrive\\Documentos\\GitHub\\FerGroup\\fer_group.py:10\u001b[0m, in \u001b[0;36mFer_group.__init__\u001b[1;34m(self, colored_graph)\u001b[0m\n\u001b[0;32m      9\u001b[0m \u001b[38;5;28;01mdef\u001b[39;00m \u001b[38;5;21m__init__\u001b[39m(\u001b[38;5;28mself\u001b[39m, colored_graph):\n\u001b[1;32m---> 10\u001b[0m   FGroup \u001b[38;5;241m=\u001b[39m \u001b[43mFerGroup\u001b[49m\u001b[43m(\u001b[49m\u001b[43mcolored_graph\u001b[49m\u001b[43m)\u001b[49m\n\u001b[0;32m     11\u001b[0m   \u001b[38;5;28mself\u001b[39m\u001b[38;5;241m.\u001b[39mgenerators \u001b[38;5;241m=\u001b[39m \u001b[38;5;28mlist\u001b[39m(FGroup\u001b[38;5;241m.\u001b[39mvalues())\n",
      "File \u001b[1;32mc:\\Users\\Tonatiuh\\OneDrive\\Documentos\\GitHub\\FerGroup\\Fer_G.py:86\u001b[0m, in \u001b[0;36mFerGroup\u001b[1;34m(colored_graph)\u001b[0m\n\u001b[0;32m     84\u001b[0m \u001b[38;5;28;01mfor\u001b[39;00m old_edge \u001b[38;5;129;01min\u001b[39;00m edges:\n\u001b[0;32m     85\u001b[0m   \u001b[38;5;28;01mfor\u001b[39;00m new_edge \u001b[38;5;129;01min\u001b[39;00m nonedges:\n\u001b[1;32m---> 86\u001b[0m     iso \u001b[38;5;241m=\u001b[39m \u001b[43misFer\u001b[49m\u001b[43m(\u001b[49m\u001b[43mcolored_graph\u001b[49m\u001b[43m,\u001b[49m\u001b[43m \u001b[49m\u001b[43mold_edge\u001b[49m\u001b[43m,\u001b[49m\u001b[43m \u001b[49m\u001b[43mnew_edge\u001b[49m\u001b[43m)\u001b[49m\n\u001b[0;32m     87\u001b[0m     \u001b[38;5;28;01mif\u001b[39;00m iso:\n\u001b[0;32m     88\u001b[0m       iso_tuple \u001b[38;5;241m=\u001b[39m \u001b[38;5;28mtuple\u001b[39m(iso[i] \u001b[38;5;28;01mfor\u001b[39;00m i \u001b[38;5;129;01min\u001b[39;00m \u001b[38;5;28mrange\u001b[39m(\u001b[38;5;28mlen\u001b[39m(iso)))\n",
      "File \u001b[1;32mc:\\Users\\Tonatiuh\\OneDrive\\Documentos\\GitHub\\FerGroup\\Fer_G.py:45\u001b[0m, in \u001b[0;36misFer\u001b[1;34m(colored_graph, old_edge, new_edge, allIso)\u001b[0m\n\u001b[0;32m     43\u001b[0m \u001b[38;5;66;03m# Else, just return the first one that the GraphMatcher finds.\u001b[39;00m\n\u001b[0;32m     44\u001b[0m \u001b[38;5;28;01mtry\u001b[39;00m:\n\u001b[1;32m---> 45\u001b[0m   first_iso \u001b[38;5;241m=\u001b[39m iso_invert(\u001b[38;5;28;43mnext\u001b[39;49m\u001b[43m(\u001b[49m\u001b[43mGM\u001b[49m\u001b[38;5;241;43m.\u001b[39;49m\u001b[43msubgraph_isomorphisms_iter\u001b[49m\u001b[43m(\u001b[49m\u001b[43m)\u001b[49m\u001b[43m)\u001b[49m)\n\u001b[0;32m     46\u001b[0m   \u001b[38;5;28;01mreturn\u001b[39;00m first_iso\n\u001b[0;32m     47\u001b[0m \u001b[38;5;28;01mexcept\u001b[39;00m \u001b[38;5;167;01mStopIteration\u001b[39;00m:\n",
      "File \u001b[1;32mc:\\Users\\Tonatiuh\\AppData\\Local\\Programs\\Python\\Python39\\lib\\site-packages\\networkx\\algorithms\\isomorphism\\isomorphvf2.py:384\u001b[0m, in \u001b[0;36mGraphMatcher.subgraph_isomorphisms_iter\u001b[1;34m(self)\u001b[0m\n\u001b[0;32m    382\u001b[0m \u001b[38;5;28mself\u001b[39m\u001b[38;5;241m.\u001b[39mtest \u001b[38;5;241m=\u001b[39m \u001b[38;5;124m\"\u001b[39m\u001b[38;5;124msubgraph\u001b[39m\u001b[38;5;124m\"\u001b[39m\n\u001b[0;32m    383\u001b[0m \u001b[38;5;28mself\u001b[39m\u001b[38;5;241m.\u001b[39minitialize()\n\u001b[1;32m--> 384\u001b[0m \u001b[38;5;28;01myield from\u001b[39;00m \u001b[38;5;28mself\u001b[39m\u001b[38;5;241m.\u001b[39mmatch()\n",
      "File \u001b[1;32mc:\\Users\\Tonatiuh\\AppData\\Local\\Programs\\Python\\Python39\\lib\\site-packages\\networkx\\algorithms\\isomorphism\\isomorphvf2.py:316\u001b[0m, in \u001b[0;36mGraphMatcher.match\u001b[1;34m(self)\u001b[0m\n\u001b[0;32m    313\u001b[0m \u001b[38;5;28;01mif\u001b[39;00m \u001b[38;5;28mself\u001b[39m\u001b[38;5;241m.\u001b[39msemantic_feasibility(G1_node, G2_node):\n\u001b[0;32m    314\u001b[0m     \u001b[38;5;66;03m# Recursive call, adding the feasible state.\u001b[39;00m\n\u001b[0;32m    315\u001b[0m     newstate \u001b[38;5;241m=\u001b[39m \u001b[38;5;28mself\u001b[39m\u001b[38;5;241m.\u001b[39mstate\u001b[38;5;241m.\u001b[39m\u001b[38;5;18m__class__\u001b[39m(\u001b[38;5;28mself\u001b[39m, G1_node, G2_node)\n\u001b[1;32m--> 316\u001b[0m     \u001b[38;5;28;01myield from\u001b[39;00m \u001b[38;5;28mself\u001b[39m\u001b[38;5;241m.\u001b[39mmatch()\n\u001b[0;32m    318\u001b[0m     \u001b[38;5;66;03m# restore data structures\u001b[39;00m\n\u001b[0;32m    319\u001b[0m     newstate\u001b[38;5;241m.\u001b[39mrestore()\n",
      "File \u001b[1;32mc:\\Users\\Tonatiuh\\AppData\\Local\\Programs\\Python\\Python39\\lib\\site-packages\\networkx\\algorithms\\isomorphism\\isomorphvf2.py:315\u001b[0m, in \u001b[0;36mGraphMatcher.match\u001b[1;34m(self)\u001b[0m\n\u001b[0;32m    312\u001b[0m \u001b[38;5;28;01mif\u001b[39;00m \u001b[38;5;28mself\u001b[39m\u001b[38;5;241m.\u001b[39msyntactic_feasibility(G1_node, G2_node):\n\u001b[0;32m    313\u001b[0m     \u001b[38;5;28;01mif\u001b[39;00m \u001b[38;5;28mself\u001b[39m\u001b[38;5;241m.\u001b[39msemantic_feasibility(G1_node, G2_node):\n\u001b[0;32m    314\u001b[0m         \u001b[38;5;66;03m# Recursive call, adding the feasible state.\u001b[39;00m\n\u001b[1;32m--> 315\u001b[0m         newstate \u001b[38;5;241m=\u001b[39m \u001b[38;5;28;43mself\u001b[39;49m\u001b[38;5;241;43m.\u001b[39;49m\u001b[43mstate\u001b[49m\u001b[38;5;241;43m.\u001b[39;49m\u001b[38;5;18;43m__class__\u001b[39;49m\u001b[43m(\u001b[49m\u001b[38;5;28;43mself\u001b[39;49m\u001b[43m,\u001b[49m\u001b[43m \u001b[49m\u001b[43mG1_node\u001b[49m\u001b[43m,\u001b[49m\u001b[43m \u001b[49m\u001b[43mG2_node\u001b[49m\u001b[43m)\u001b[49m\n\u001b[0;32m    316\u001b[0m         \u001b[38;5;28;01myield from\u001b[39;00m \u001b[38;5;28mself\u001b[39m\u001b[38;5;241m.\u001b[39mmatch()\n\u001b[0;32m    318\u001b[0m         \u001b[38;5;66;03m# restore data structures\u001b[39;00m\n",
      "File \u001b[1;32mc:\\Users\\Tonatiuh\\AppData\\Local\\Programs\\Python\\Python39\\lib\\site-packages\\networkx\\algorithms\\isomorphism\\isomorphvf2.py:901\u001b[0m, in \u001b[0;36mGMState.__init__\u001b[1;34m(self, GM, G1_node, G2_node)\u001b[0m\n\u001b[0;32m    898\u001b[0m new_nodes \u001b[38;5;241m=\u001b[39m \u001b[38;5;28mset\u001b[39m()\n\u001b[0;32m    899\u001b[0m \u001b[38;5;28;01mfor\u001b[39;00m node \u001b[38;5;129;01min\u001b[39;00m GM\u001b[38;5;241m.\u001b[39mcore_1:\n\u001b[0;32m    900\u001b[0m     new_nodes\u001b[38;5;241m.\u001b[39mupdate(\n\u001b[1;32m--> 901\u001b[0m         [neighbor \u001b[38;5;28;01mfor\u001b[39;00m neighbor \u001b[38;5;129;01min\u001b[39;00m GM\u001b[38;5;241m.\u001b[39mG1[node] \u001b[38;5;28;01mif\u001b[39;00m neighbor \u001b[38;5;129;01mnot\u001b[39;00m \u001b[38;5;129;01min\u001b[39;00m GM\u001b[38;5;241m.\u001b[39mcore_1]\n\u001b[0;32m    902\u001b[0m     )\n\u001b[0;32m    903\u001b[0m \u001b[38;5;28;01mfor\u001b[39;00m node \u001b[38;5;129;01min\u001b[39;00m new_nodes:\n\u001b[0;32m    904\u001b[0m     \u001b[38;5;28;01mif\u001b[39;00m node \u001b[38;5;129;01mnot\u001b[39;00m \u001b[38;5;129;01min\u001b[39;00m GM\u001b[38;5;241m.\u001b[39minout_1:\n",
      "File \u001b[1;32mc:\\Users\\Tonatiuh\\AppData\\Local\\Programs\\Python\\Python39\\lib\\site-packages\\networkx\\algorithms\\isomorphism\\isomorphvf2.py:901\u001b[0m, in \u001b[0;36m<listcomp>\u001b[1;34m(.0)\u001b[0m\n\u001b[0;32m    898\u001b[0m new_nodes \u001b[38;5;241m=\u001b[39m \u001b[38;5;28mset\u001b[39m()\n\u001b[0;32m    899\u001b[0m \u001b[38;5;28;01mfor\u001b[39;00m node \u001b[38;5;129;01min\u001b[39;00m GM\u001b[38;5;241m.\u001b[39mcore_1:\n\u001b[0;32m    900\u001b[0m     new_nodes\u001b[38;5;241m.\u001b[39mupdate(\n\u001b[1;32m--> 901\u001b[0m         [neighbor \u001b[38;5;28;01mfor\u001b[39;00m neighbor \u001b[38;5;129;01min\u001b[39;00m GM\u001b[38;5;241m.\u001b[39mG1[node] \u001b[38;5;28;01mif\u001b[39;00m neighbor \u001b[38;5;129;01mnot\u001b[39;00m \u001b[38;5;129;01min\u001b[39;00m \u001b[43mGM\u001b[49m\u001b[38;5;241m.\u001b[39mcore_1]\n\u001b[0;32m    902\u001b[0m     )\n\u001b[0;32m    903\u001b[0m \u001b[38;5;28;01mfor\u001b[39;00m node \u001b[38;5;129;01min\u001b[39;00m new_nodes:\n\u001b[0;32m    904\u001b[0m     \u001b[38;5;28;01mif\u001b[39;00m node \u001b[38;5;129;01mnot\u001b[39;00m \u001b[38;5;129;01min\u001b[39;00m GM\u001b[38;5;241m.\u001b[39minout_1:\n",
      "\u001b[1;31mKeyboardInterrupt\u001b[0m: "
     ]
    }
   ],
   "source": [
    "# Connect to the SQLite database\n",
    "conn = sqlite3.connect('databases/all_graphs.db')\n",
    "cursor = conn.cursor()\n",
    "\n",
    "# Create checkpoint table with a primary key to ensure only one row exists\n",
    "cursor.execute(\"\"\"\n",
    "CREATE TABLE IF NOT EXISTS checkpoint (\n",
    "    id INTEGER PRIMARY KEY,\n",
    "    last_id INTEGER\n",
    ")\n",
    "\"\"\")\n",
    "conn.commit()\n",
    "\n",
    "# Fetch the last processed ID from the checkpoint table\n",
    "cursor.execute(\"SELECT last_id FROM checkpoint WHERE id = 1\")\n",
    "row = cursor.fetchone()\n",
    "last_id = row[0] if row else 0\n",
    "\n",
    "print(\"Resuming from ID:\", last_id)\n",
    "\n",
    "# Get the total number of rows to process\n",
    "cursor.execute(\"SELECT COUNT(*) FROM graphs WHERE id > ?\", (last_id,))\n",
    "total_rows = cursor.fetchone()[0]\n",
    "\n",
    "print(f\"Total rows to process: {total_rows}\")\n",
    "\n",
    "# Fetch all rows into memory starting from last processed ID\n",
    "cursor.execute(\"SELECT id, graph_g6 FROM graphs WHERE id > ? ORDER BY id\", (last_id,))\n",
    "rows = cursor.fetchall()\n",
    "\n",
    "progress_bar = tqdm(total=total_rows, initial=0, desc=\"Processing Rows\")\n",
    "\n",
    "# Process each row\n",
    "for row in rows:\n",
    "    current_id, graph_g6 = row\n",
    "\n",
    "    # Convert G6 string to networkx graph\n",
    "    G = nx.from_graph6_bytes(graph_g6.encode())\n",
    "\n",
    "    # Compute Fer_group(G)\n",
    "    fer = Fer_group(G)\n",
    "\n",
    "    # Serialize the result\n",
    "    s_fer = pickle.dumps(fer)\n",
    "\n",
    "    # Update the row with the computed result\n",
    "    cursor.execute(\"UPDATE graphs SET fer = ? WHERE id = ?\", (s_fer, current_id))\n",
    "    \n",
    "    # Update the checkpoint and commit immediately\n",
    "    cursor.execute(\"INSERT OR REPLACE INTO checkpoint (id, last_id) VALUES (1, ?)\", (current_id,))\n",
    "    conn.commit()  # Ensure checkpoint and data are saved after each row  \n",
    "\n",
    "    # Update the progress bar\n",
    "    progress_bar.update(1)\n",
    "\n",
    "# Close the progress bar and connection\n",
    "progress_bar.close()\n",
    "conn.close()"
   ]
  }
 ],
 "metadata": {
  "kernelspec": {
   "display_name": "Python 3",
   "language": "python",
   "name": "python3"
  },
  "language_info": {
   "codemirror_mode": {
    "name": "ipython",
    "version": 3
   },
   "file_extension": ".py",
   "mimetype": "text/x-python",
   "name": "python",
   "nbconvert_exporter": "python",
   "pygments_lexer": "ipython3",
   "version": "3.9.0"
  }
 },
 "nbformat": 4,
 "nbformat_minor": 2
}
