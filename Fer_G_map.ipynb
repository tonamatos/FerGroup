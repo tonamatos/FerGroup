{
 "cells": [
  {
   "cell_type": "code",
   "execution_count": 1,
   "metadata": {},
   "outputs": [],
   "source": [
    "import sqlite3\n",
    "from database_handler import db_read\n",
    "from fer_group import Fer_group\n",
    "from tqdm import tqdm\n",
    "import networkx as nx\n",
    "import pickle"
   ]
  },
  {
   "cell_type": "code",
   "execution_count": 2,
   "metadata": {},
   "outputs": [],
   "source": [
    "# Connect to the SQLite database\n",
    "conn = sqlite3.connect('databases/all_graphs.db')\n",
    "cursor = conn.cursor()\n",
    "\n",
    "# Create checkpoint table with a primary key to ensure only one row exists\n",
    "cursor.execute(\"\"\"\n",
    "CREATE TABLE IF NOT EXISTS checkpoint (\n",
    "    id INTEGER PRIMARY KEY,\n",
    "    last_id INTEGER\n",
    ")\n",
    "\"\"\")\n",
    "conn.commit()\n",
    "\n",
    "# Fetch the last processed ID from the checkpoint table\n",
    "cursor.execute(\"SELECT last_id FROM checkpoint WHERE id = 1\")\n",
    "row = cursor.fetchone()\n",
    "last_id = row[0] if row else 0\n",
    "\n",
    "print(\"Resuming from ID:\", last_id)\n",
    "\n",
    "# Get the total number of rows to process\n",
    "cursor.execute(\"SELECT COUNT(*) FROM graphs WHERE id > ?\", (last_id,))\n",
    "total_rows = cursor.fetchone()[0]\n",
    "\n",
    "print(f\"Total rows to process: {total_rows}\")\n",
    "\n",
    "# Fetch all rows into memory starting from last processed ID\n",
    "cursor.execute(\"SELECT id, graph_g6 FROM graphs WHERE id > ? ORDER BY id\", (last_id,))\n",
    "rows = cursor.fetchall()\n",
    "\n",
    "progress_bar = tqdm(total=total_rows, initial=0, desc=\"Processing Rows\")\n",
    "\n",
    "# Process each row\n",
    "for row in rows:\n",
    "    current_id, graph_g6 = row\n",
    "\n",
    "    # Convert G6 string to networkx graph\n",
    "    G = nx.from_graph6_bytes(graph_g6.encode())\n",
    "\n",
    "    # Compute Fer_group(G)\n",
    "    fer = Fer_group(G)\n",
    "\n",
    "    # Serialize the result\n",
    "    s_fer = pickle.dumps(fer)\n",
    "\n",
    "    # Update the row with the computed result\n",
    "    cursor.execute(\"UPDATE graphs SET fer = ? WHERE id = ?\", (s_fer, current_id))\n",
    "    \n",
    "    # Update the checkpoint and commit immediately\n",
    "    cursor.execute(\"INSERT OR REPLACE INTO checkpoint (id, last_id) VALUES (1, ?)\", (current_id,))\n",
    "    conn.commit()  # Ensure checkpoint and data are saved after each row  \n",
    "\n",
    "    # Update the progress bar\n",
    "    progress_bar.update(1)\n",
    "\n",
    "# Close the progress bar and connection\n",
    "progress_bar.close()\n",
    "conn.close()"
   ]
  }
 ],
 "metadata": {
  "kernelspec": {
   "display_name": "Python 3",
   "language": "python",
   "name": "python3"
  },
  "language_info": {
   "codemirror_mode": {
    "name": "ipython",
    "version": 3
   },
   "file_extension": ".py",
   "mimetype": "text/x-python",
   "name": "python",
   "nbconvert_exporter": "python",
   "pygments_lexer": "ipython3",
   "version": "3.9.0"
  }
 },
 "nbformat": 4,
 "nbformat_minor": 2
}
